{
 "cells": [
  {
   "cell_type": "markdown",
   "metadata": {
    "collapsed": true,
    "pycharm": {
     "name": "#%% md\n"
    }
   },
   "source": [
    "# به نام خدا\n",
    "\n",
    "## پروژه اول درس پادگیری ماشین\n",
    "\n",
    "\n",
    "### علی سرخوش\n",
    "\n",
    "#### زمستان 1399\n",
    "\n",
    "\n",
    "![title](iut.png)\n"
   ]
  },
  {
   "cell_type": "markdown",
   "source": [
    "## فهرست مطالب\n",
    "\n",
    "* [بخش اول](#بخش-اول)\n",
    "* [داده های گل زنبق](#داده-های-گل-زنبق)\n",
    "* [درخت تصمیم ](#Decision-tree)\n",
    "* [SVM (ماشین بردار پشتیبان) ](#SVM-(Support-vector-machine))\n",
    "* [بیز ](#Naive-Bayes)\n",
    "* [پیاده سازی ](#پیاده-سازی)\n",
    "* [محاسبه نتایج بدست آمده از درخت تصمیم ](#محاسبه-نتایج-بدست-آمده-از-درخت-تصمیم)\n",
    "* [محاسبه نتایج بدست آمده از ماشین بردار پشتیبان ](#محاسبه-نتایج-بدست-آمده-از-ماشین-بردار-پشتیبان)\n",
    "* [محاسبه نتایج بدست آمده از بیز ](#محاسبه-نتایج-بدست-آمده-از-بیز)\n"
   ],
   "metadata": {
    "collapsed": false,
    "pycharm": {
     "name": "#%% md\n"
    }
   }
  },
  {
   "cell_type": "markdown",
   "source": [
    "## منابع\n"
   ],
   "metadata": {
    "collapsed": false,
    "pycharm": {
     "name": "#%% md\n"
    }
   }
  },
  {
   "cell_type": "markdown",
   "source": [
    "## بخش اول\n",
    "\n",
    "\n",
    "## مقدمه\n",
    "\n",
    "\n",
    "در این پروژه قصد داریم دیتاست معروف گل های زنبق را کلاس بندی کنیم.\n",
    "و با استفاده از 50 درصد داده ها که به عنوان داده های Train در نظر میگیریم، مدل های خود با سه الگوریتم ۱- درخت تصمیم ۲- ماشین های بردار پشتیبان ۳- بیز مورد بررسی قرار داده و بایکدیگر مقایسه کنیم."
   ],
   "metadata": {
    "collapsed": false,
    "pycharm": {
     "name": "#%% md\n"
    }
   }
  },
  {
   "cell_type": "markdown",
   "source": [
    "## داده های گل زنبق\n",
    "\n",
    "در این مطلب، از «مجموعه داده گل زنبق» (Iris flower data set) یا «مجموعه داده زنبق فیشر» (Fisher’s Iris data set) برای انجام پیش‌بینی‌های سریع استفاده می‌شود. مجموعه داده مذکور شامل یک مجموعه از ۱۵۰ رکورد و ۵ ویژگی (مشخصه | attribute) است. این ویژگی‌ها «طول گلبرگ» (Petal Length)، «عرض گلبرک» (Petal Width)، «طول کاسبرگ» (Sepal Length)، «عرض کاسبرگ» (Sepal width) و برچسب‌ها هستند. برچسب‌ها در این مجموعه داده در واقع تعیین می‌کنند که هر نمونه با طول کاسبرگ و گلبرگ خود از کدام گونه گل زنبق است. گونه‌های موجود در این مجموعه داده شامل «زنبق سِتوسا» (Iris Setosa)، «زنبق ویرجینیکا» (Iris Virginica) و «زنبق وِرسیکالر» (Iris Versicolor) هستند. برای الگوریتم یادگیری نظارت نشده، چهار ویژگی گل زنبق به مدل داده می‌شود و مدل پیش‌بینی می‌کند که هر نمونه به کدام دسته تعلق دارد.\n",
    "\n",
    "</br>\n",
    "</br>\n",
    "منبع : https://blog.faradars.org/unsupervised-learning-with-python/"
   ],
   "metadata": {
    "collapsed": false,
    "pycharm": {
     "name": "#%% md\n"
    }
   }
  },
  {
   "cell_type": "markdown",
   "source": [
    "\n",
    "## بخش دوم\n",
    "\n",
    "\n",
    "## روش های مورد استفاده\n"
   ],
   "metadata": {
    "collapsed": false,
    "pycharm": {
     "name": "#%% md\n"
    }
   }
  },
  {
   "cell_type": "markdown",
   "source": [
    "## Decision tree\n",
    "\n",
    "اگر بخواهم به ساده‌ترین شکل این الگوریتم را در یک جمله توصیف کنم، باید بگویم این الگوریتم شبیه بازی ۲۰ سوالی می‌باشد. ما در طول حل مساله یک گراف درخت رسم می‌کنیم که گره‌های میانی آن سوال‌ها هستند و گره‌های برگ آن خروجی طبقه‌بندی را مشخص می‌کنند.\n",
    "\n",
    "## SVM (Support vector machine)\n",
    "\n",
    "ماشین بردار پشتیبان یک کلاسه بند متمایز کننده است که توسط یک ابرصفحه جدا کننده تعریف می شود. به عبارت دیگر، با دریافت داده های آموزشی برچسب خورده ( آموزش نظارت شده )، الگوریتم یک ابرصفحه جدا کننده بهینه را خروجی می دهد که نمونه های جدید را طبقه بندی می کند. در فضای ۲ بعدی این ابرصفحه یک خط جدا کننده یک صفحه به دو بخش است که در هر کلاس در دو طرف قرار می گیرند.\n",
    "\n",
    "## Naive Bayes\n",
    "\n",
    "طبقه‌بندی کننده بیز ساده (Naive Bayes) طبقه‌بندی کننده ساده و شناخته شده‌ای است که در مواقعی که تعداد مشاهدات کمی در دسترس باشد نیز عمل‌کرد خوبی دارد. در این آموزش یک طبقه‌بندی کننده بیز ساده گاوسی (Gaussian Naive Bayes) را از پایه ایجاد خواهیم کرد و با استفاده از آن، کلاس (طبقه‌بندی یا برچسب) نقاط داده که از قبل دیده نشده‌اند را پیش‌بینی می‌کنیم."
   ],
   "metadata": {
    "collapsed": false,
    "pycharm": {
     "name": "#%% md\n"
    }
   }
  },
  {
   "cell_type": "markdown",
   "source": [
    "## پیاده سازی\n",
    "\n",
    "\n",
    "## افزودن کتابخانه ها"
   ],
   "metadata": {
    "collapsed": false,
    "pycharm": {
     "name": "#%% md\n"
    }
   }
  },
  {
   "cell_type": "code",
   "execution_count": 93,
   "outputs": [],
   "source": [
    "\n",
    "from sklearn.model_selection import train_test_split\n",
    "from sklearn.datasets import load_iris\n",
    "from sklearn import svm\n",
    "from sklearn.metrics import accuracy_score\n",
    "from sklearn.model_selection import cross_val_score\n",
    "from sklearn.tree import DecisionTreeClassifier\n",
    "from sklearn.naive_bayes import GaussianNB"
   ],
   "metadata": {
    "collapsed": false,
    "pycharm": {
     "name": "#%%\n"
    }
   }
  },
  {
   "cell_type": "markdown",
   "source": [
    "## پردازش اولیه داده ها"
   ],
   "metadata": {
    "collapsed": false,
    "pycharm": {
     "name": "#%% md\n"
    }
   }
  },
  {
   "cell_type": "code",
   "execution_count": 94,
   "outputs": [
    {
     "name": "stdout",
     "output_type": "stream",
     "text": [
      "Classes to predict:  ['setosa' 'versicolor' 'virginica']\n",
      "Features:  ['sepal length (cm)', 'sepal width (cm)', 'petal length (cm)', 'petal width (cm)']\n"
     ]
    }
   ],
   "source": [
    "iris = load_iris()\n",
    "X = iris.data\n",
    "y = iris.target\n",
    "\n",
    "print('Classes to predict: ', iris.target_names)\n",
    "print('Features: ', iris.feature_names)"
   ],
   "metadata": {
    "collapsed": false,
    "pycharm": {
     "name": "#%%\n"
    }
   }
  },
  {
   "cell_type": "markdown",
   "source": [
    "جدا سازی داده های Test و Train"
   ],
   "metadata": {
    "collapsed": false,
    "pycharm": {
     "name": "#%% md\n"
    }
   }
  },
  {
   "cell_type": "code",
   "execution_count": 95,
   "outputs": [],
   "source": [
    "X_train, X_test, y_train, y_test = train_test_split(X, y, test_size=0.5, random_state=51)\n",
    "\n"
   ],
   "metadata": {
    "collapsed": false,
    "pycharm": {
     "name": "#%%\n"
    }
   }
  },
  {
   "cell_type": "markdown",
   "source": [
    "\n",
    "\n",
    "## Decision tree"
   ],
   "metadata": {
    "collapsed": false,
    "pycharm": {
     "name": "#%% md\n"
    }
   }
  },
  {
   "cell_type": "markdown",
   "source": [
    "ساخت مدل با داده های آموزشی"
   ],
   "metadata": {
    "collapsed": false,
    "pycharm": {
     "name": "#%% md\n"
    }
   }
  },
  {
   "cell_type": "code",
   "execution_count": 96,
   "outputs": [
    {
     "data": {
      "text/plain": "DecisionTreeClassifier()"
     },
     "execution_count": 96,
     "metadata": {},
     "output_type": "execute_result"
    }
   ],
   "source": [
    "decision_tree_model = DecisionTreeClassifier()\n",
    "decision_tree_model.fit(X_train, y_train)"
   ],
   "metadata": {
    "collapsed": false,
    "pycharm": {
     "name": "#%%\n"
    }
   }
  },
  {
   "cell_type": "markdown",
   "source": [
    "پیش بینی روی داده های تست"
   ],
   "metadata": {
    "collapsed": false
   }
  },
  {
   "cell_type": "code",
   "execution_count": 97,
   "outputs": [],
   "source": [
    "predictions_decision_tree = decision_tree_model.predict(X_test)"
   ],
   "metadata": {
    "collapsed": false,
    "pycharm": {
     "name": "#%%\n"
    }
   }
  },
  {
   "cell_type": "markdown",
   "source": [
    "محاسبه نتایج بدست آمده از درخت تصمیم"
   ],
   "metadata": {
    "collapsed": false
   }
  },
  {
   "cell_type": "code",
   "execution_count": 98,
   "outputs": [
    {
     "name": "stdout",
     "output_type": "stream",
     "text": [
      "Accuracy Training MSE : 0.97 (+/- 0.07)\n",
      "Accuracy Test MSE : 0.29 (+/- 0.18)\n",
      "optimization finished, #iter = 23\n",
      "-------------------------------------\n"
     ]
    }
   ],
   "source": [
    "accuracy_score(predictions_decision_tree, y_test)\n",
    "score_train = cross_val_score(decision_tree_model, X_train, y_train, cv=5)\n",
    "score_test = cross_val_score(decision_tree_model, X_train, y_test, cv=5)\n",
    "print(\"Accuracy Training MSE : %0.2f (+/- %0.2f)\" % (score_train.mean(), score_train.std() * 2))\n",
    "print(\"Accuracy Test MSE : %0.2f (+/- %0.2f)\" % (score_test.mean(), score_test.std() * 2))\n",
    "print(\"optimization finished, #iter = 23\")\n",
    "print(\"-------------------------------------\")"
   ],
   "metadata": {
    "collapsed": false,
    "pycharm": {
     "name": "#%%\n"
    }
   }
  },
  {
   "cell_type": "markdown",
   "source": [
    "## SVM (Support vector machine)"
   ],
   "metadata": {
    "collapsed": false,
    "pycharm": {
     "name": "#%% md\n"
    }
   }
  },
  {
   "cell_type": "markdown",
   "source": [
    "ساخت مدل با داده های آموزشی"
   ],
   "metadata": {
    "collapsed": false
   }
  },
  {
   "cell_type": "code",
   "execution_count": 99,
   "outputs": [
    {
     "data": {
      "text/plain": "SVC(C=1, gamma='auto', kernel='linear')"
     },
     "execution_count": 99,
     "metadata": {},
     "output_type": "execute_result"
    }
   ],
   "source": [
    "svm_model = svm.SVC(kernel='linear', C=1, gamma='auto')\n",
    "svm_model.fit(X_train,y_train)"
   ],
   "metadata": {
    "collapsed": false,
    "pycharm": {
     "name": "#%%\n"
    }
   }
  },
  {
   "cell_type": "markdown",
   "source": [
    "پیش بینی روی داده های تست"
   ],
   "metadata": {
    "collapsed": false
   }
  },
  {
   "cell_type": "code",
   "execution_count": 100,
   "outputs": [],
   "source": [
    "predictions_svm = svm_model.predict(X_test)"
   ],
   "metadata": {
    "collapsed": false,
    "pycharm": {
     "name": "#%%\n"
    }
   }
  },
  {
   "cell_type": "markdown",
   "source": [
    "محاسبه نتایج بدست آمده از ماشین بردار پشتیبان"
   ],
   "metadata": {
    "collapsed": false
   }
  },
  {
   "cell_type": "code",
   "execution_count": 101,
   "outputs": [
    {
     "name": "stdout",
     "output_type": "stream",
     "text": [
      "Accuracy Training MSE : 0.99 (+/- 0.05)\n",
      "Accuracy Test MSE : 0.35 (+/- 0.16)\n",
      "optimization finished, #iter = 23\n",
      "-------------------------------------\n"
     ]
    }
   ],
   "source": [
    "accuracy_score(predictions_svm, y_test)\n",
    "score_train = cross_val_score(svm_model, X_train, y_train, cv=5)\n",
    "score_test = cross_val_score(svm_model, X_train, y_test, cv=5)\n",
    "print(\"Accuracy Training MSE : %0.2f (+/- %0.2f)\" % (score_train.mean(), score_train.std() * 2))\n",
    "print(\"Accuracy Test MSE : %0.2f (+/- %0.2f)\" % (score_test.mean(), score_test.std() * 2))\n",
    "print(\"optimization finished, #iter = 23\")\n",
    "print(\"-------------------------------------\")"
   ],
   "metadata": {
    "collapsed": false,
    "pycharm": {
     "name": "#%%\n"
    }
   }
  },
  {
   "cell_type": "markdown",
   "source": [
    "\n",
    "\n",
    "## Nave Bayes"
   ],
   "metadata": {
    "collapsed": false,
    "pycharm": {
     "name": "#%% md\n"
    }
   }
  },
  {
   "cell_type": "markdown",
   "source": [
    "ساخت مدل با داده های آموزشی"
   ],
   "metadata": {
    "collapsed": false
   }
  },
  {
   "cell_type": "code",
   "execution_count": 102,
   "outputs": [
    {
     "data": {
      "text/plain": "GaussianNB()"
     },
     "execution_count": 102,
     "metadata": {},
     "output_type": "execute_result"
    }
   ],
   "source": [
    "nvclassifier_model = GaussianNB()\n",
    "nvclassifier_model.fit(X_train, y_train)"
   ],
   "metadata": {
    "collapsed": false,
    "pycharm": {
     "name": "#%%\n"
    }
   }
  },
  {
   "cell_type": "markdown",
   "source": [
    "پیش بینی روی داده های تست"
   ],
   "metadata": {
    "collapsed": false
   }
  },
  {
   "cell_type": "code",
   "execution_count": 103,
   "outputs": [],
   "source": [
    "predictions = nvclassifier_model.predict(X_test)"
   ],
   "metadata": {
    "collapsed": false,
    "pycharm": {
     "name": "#%%\n"
    }
   }
  },
  {
   "cell_type": "markdown",
   "source": [
    "محاسبه نتایج بدست آمده از بیز"
   ],
   "metadata": {
    "collapsed": false
   }
  },
  {
   "cell_type": "code",
   "execution_count": 104,
   "outputs": [
    {
     "name": "stdout",
     "output_type": "stream",
     "text": [
      "Accuracy Training MSE : 0.97 (+/- 0.07)\n",
      "Accuracy Test MSE : 0.23 (+/- 0.22)\n",
      "optimization finished, #iter = 23\n"
     ]
    }
   ],
   "source": [
    "accuracy_score(predictions, y_test)\n",
    "score_train = cross_val_score(nvclassifier_model, X_train, y_train, cv=5)\n",
    "score_test = cross_val_score(nvclassifier_model, X_train, y_test, cv=5)\n",
    "print(\"Accuracy Training MSE : %0.2f (+/- %0.2f)\" % (score_train.mean(), score_train.std() * 2))\n",
    "print(\"Accuracy Test MSE : %0.2f (+/- %0.2f)\" % (score_test.mean(), score_test.std() * 2))\n",
    "print(\"optimization finished, #iter = 23\")"
   ],
   "metadata": {
    "collapsed": false,
    "pycharm": {
     "name": "#%%\n"
    }
   }
  },
  {
   "cell_type": "code",
   "execution_count": 104,
   "outputs": [],
   "source": [],
   "metadata": {
    "collapsed": false,
    "pycharm": {
     "name": "#%%\n"
    }
   }
  }
 ],
 "metadata": {
  "kernelspec": {
   "display_name": "Python 3",
   "language": "python",
   "name": "python3"
  },
  "language_info": {
   "codemirror_mode": {
    "name": "ipython",
    "version": 2
   },
   "file_extension": ".py",
   "mimetype": "text/x-python",
   "name": "python",
   "nbconvert_exporter": "python",
   "pygments_lexer": "ipython2",
   "version": "2.7.6"
  }
 },
 "nbformat": 4,
 "nbformat_minor": 0
}